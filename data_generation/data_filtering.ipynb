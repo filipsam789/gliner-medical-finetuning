{
 "cells": [
  {
   "cell_type": "code",
   "execution_count": 1,
   "id": "569df80c",
   "metadata": {},
   "outputs": [],
   "source": [
    "import json"
   ]
  },
  {
   "cell_type": "code",
   "execution_count": 11,
   "id": "faf5b2eb",
   "metadata": {},
   "outputs": [],
   "source": [
    "with open(\"../new_data/json_outputs.json\", \"r\", encoding=\"utf-8\") as file:\n",
    "    json_outputs = json.load(file)"
   ]
  },
  {
   "cell_type": "code",
   "execution_count": 12,
   "id": "b45dbfb1",
   "metadata": {},
   "outputs": [
    {
     "data": {
      "text/plain": [
       "{'text': 'Any part of your neck  muscles, bones, joints, tendons, ligaments, or nerves  can cause neck problems. Neck pain is very common. Pain may also come from your shoulder, jaw, head, or upper arms. Muscle strain or tension often causes neck pain. The problem is usually overuse, such as from sitting at a computer for too long. Sometimes you can strain your neck muscles from sleeping in an awkward position or overdoing it during exercise. Falls or accidents, including car accidents, are another common cause of neck pain. Whiplash, a soft tissue injury to the neck, is also called neck sprain or strain. Treatment depends on the cause, but may include applying ice, taking pain relievers, getting physical therapy or wearing a cervical collar. You rarely need surgery.',\n",
       " 'entities': [{'entity': 'neck', 'types': ['body part']},\n",
       "  {'entity': 'muscles', 'types': ['body part']},\n",
       "  {'entity': 'bones', 'types': ['body part']},\n",
       "  {'entity': 'joints', 'types': ['body part']},\n",
       "  {'entity': 'tendons', 'types': ['body part']},\n",
       "  {'entity': 'ligaments', 'types': ['body part']},\n",
       "  {'entity': 'nerves', 'types': ['body part']},\n",
       "  {'entity': 'neck problems', 'types': ['condition']},\n",
       "  {'entity': 'neck pain', 'types': ['condition']},\n",
       "  {'entity': 'shoulder', 'types': ['body part']},\n",
       "  {'entity': 'jaw', 'types': ['body part']},\n",
       "  {'entity': 'head', 'types': ['body part']},\n",
       "  {'entity': 'upper arms', 'types': ['body part']},\n",
       "  {'entity': 'Muscle strain', 'types': ['condition']},\n",
       "  {'entity': 'tension', 'types': ['condition']},\n",
       "  {'entity': 'neck muscles', 'types': ['body part']},\n",
       "  {'entity': 'Falls', 'types': ['event']},\n",
       "  {'entity': 'accidents', 'types': ['event']},\n",
       "  {'entity': 'car accidents', 'types': ['event']},\n",
       "  {'entity': 'Whiplash', 'types': ['condition']},\n",
       "  {'entity': 'soft tissue injury', 'types': ['condition']},\n",
       "  {'entity': 'neck sprain', 'types': ['condition']},\n",
       "  {'entity': 'strain', 'types': ['condition']},\n",
       "  {'entity': 'ice', 'types': ['treatment']},\n",
       "  {'entity': 'pain relievers', 'types': ['treatment']},\n",
       "  {'entity': 'physical therapy', 'types': ['treatment']},\n",
       "  {'entity': 'cervical collar', 'types': ['treatment']},\n",
       "  {'entity': 'surgery', 'types': ['treatment']}],\n",
       " 'negative_entities': [{'entity': 'neck', 'types': ['condition']},\n",
       "  {'entity': 'muscles', 'types': ['event']},\n",
       "  {'entity': 'bones', 'types': ['treatment']},\n",
       "  {'entity': 'joints', 'types': ['body part']},\n",
       "  {'entity': 'tendons', 'types': ['condition']},\n",
       "  {'entity': 'ligaments', 'types': ['event']},\n",
       "  {'entity': 'nerves', 'types': ['treatment']},\n",
       "  {'entity': 'neck problems', 'types': ['body part']},\n",
       "  {'entity': 'neck pain', 'types': ['body part']},\n",
       "  {'entity': 'shoulder', 'types': ['condition']},\n",
       "  {'entity': 'jaw', 'types': ['event']},\n",
       "  {'entity': 'head', 'types': ['treatment']},\n",
       "  {'entity': 'upper arms', 'types': ['condition']},\n",
       "  {'entity': 'Muscle strain', 'types': ['event']},\n",
       "  {'entity': 'tension', 'types': ['body part']},\n",
       "  {'entity': 'neck muscles', 'types': ['condition']},\n",
       "  {'entity': 'Falls', 'types': ['body part']},\n",
       "  {'entity': 'accidents', 'types': ['condition']},\n",
       "  {'entity': 'car accidents', 'types': ['body part']},\n",
       "  {'entity': 'Whiplash', 'types': ['event']},\n",
       "  {'entity': 'soft tissue injury', 'types': ['body part']},\n",
       "  {'entity': 'neck sprain', 'types': ['event']},\n",
       "  {'entity': 'strain', 'types': ['body part']},\n",
       "  {'entity': 'ice', 'types': ['condition']},\n",
       "  {'entity': 'pain relievers', 'types': ['event']},\n",
       "  {'entity': 'physical therapy', 'types': ['body part']},\n",
       "  {'entity': 'cervical collar', 'types': ['condition']},\n",
       "  {'entity': 'surgery', 'types': ['event']}]}"
      ]
     },
     "execution_count": 12,
     "metadata": {},
     "output_type": "execute_result"
    }
   ],
   "source": [
    "json_outputs[0]"
   ]
  },
  {
   "cell_type": "code",
   "execution_count": 13,
   "id": "61e850f0",
   "metadata": {},
   "outputs": [
    {
     "name": "stderr",
     "output_type": "stream",
     "text": [
      "Fetching 4 files: 100%|██████████| 4/4 [00:00<00:00, 102927.71it/s]\n",
      "/home/mlmonster/Projects/filip_s/gliner-medical-finetuning/.venv/lib/python3.12/site-packages/transformers/convert_slow_tokenizer.py:559: UserWarning: The sentencepiece tokenizer that you are converting to a fast tokenizer uses the byte fallback option which is not implemented in the fast tokenizers. In practice this means that the fast version of the tokenizer can produce unknown tokens whereas the sentencepiece version would have converted these unknown tokens into a sequence of byte tokens matching the original piece of text.\n",
      "  warnings.warn(\n"
     ]
    }
   ],
   "source": [
    "from gliner import GLiNER\n",
    "\n",
    "gliner_model = GLiNER.from_pretrained(\"urchade/gliner_small\")\n",
    "tokenizer = gliner_model.data_processor.transformer_tokenizer"
   ]
  },
  {
   "cell_type": "code",
   "execution_count": 14,
   "id": "7de4f65c",
   "metadata": {},
   "outputs": [],
   "source": [
    "from data_processing import extract_entities_with_negatives"
   ]
  },
  {
   "cell_type": "code",
   "execution_count": null,
   "id": "9b755b18",
   "metadata": {},
   "outputs": [
    {
     "name": "stderr",
     "output_type": "stream",
     "text": [
      "Asking to truncate to max_length but no maximum length is provided and the model has no predefined maximum length. Default to no truncation.\n"
     ]
    },
    {
     "data": {
      "text/plain": [
       "{'tokenized_text': ['Any',\n",
       "  'part',\n",
       "  'of',\n",
       "  'your',\n",
       "  'neck',\n",
       "  'muscles',\n",
       "  ',',\n",
       "  'bones',\n",
       "  ',',\n",
       "  'joints',\n",
       "  ',',\n",
       "  'tendons',\n",
       "  ',',\n",
       "  'ligaments',\n",
       "  ',',\n",
       "  'or',\n",
       "  'nerves',\n",
       "  'can',\n",
       "  'cause',\n",
       "  'neck',\n",
       "  'problems',\n",
       "  '.',\n",
       "  'Neck',\n",
       "  'pain',\n",
       "  'is',\n",
       "  'very',\n",
       "  'common',\n",
       "  '.',\n",
       "  'Pain',\n",
       "  'may',\n",
       "  'also',\n",
       "  'come',\n",
       "  'from',\n",
       "  'your',\n",
       "  'shoulder',\n",
       "  ',',\n",
       "  'jaw',\n",
       "  ',',\n",
       "  'head',\n",
       "  ',',\n",
       "  'or',\n",
       "  'upper',\n",
       "  'arms',\n",
       "  '.',\n",
       "  'Muscle',\n",
       "  'strain',\n",
       "  'or',\n",
       "  'tension',\n",
       "  'often',\n",
       "  'causes',\n",
       "  'neck',\n",
       "  'pain',\n",
       "  '.',\n",
       "  'The',\n",
       "  'problem',\n",
       "  'is',\n",
       "  'usually',\n",
       "  'overuse',\n",
       "  ',',\n",
       "  'such',\n",
       "  'as',\n",
       "  'from',\n",
       "  'sitting',\n",
       "  'at',\n",
       "  'a',\n",
       "  'computer',\n",
       "  'for',\n",
       "  'too',\n",
       "  'long',\n",
       "  '.',\n",
       "  'Sometimes',\n",
       "  'you',\n",
       "  'can',\n",
       "  'strain',\n",
       "  'your',\n",
       "  'neck',\n",
       "  'muscles',\n",
       "  'from',\n",
       "  'sleeping',\n",
       "  'in',\n",
       "  'an',\n",
       "  'awkward',\n",
       "  'position',\n",
       "  'or',\n",
       "  'overdoing',\n",
       "  'it',\n",
       "  'during',\n",
       "  'exercise',\n",
       "  '.',\n",
       "  'Falls',\n",
       "  'or',\n",
       "  'accidents',\n",
       "  ',',\n",
       "  'including',\n",
       "  'car',\n",
       "  'accidents',\n",
       "  ',',\n",
       "  'are',\n",
       "  'another',\n",
       "  'common',\n",
       "  'cause',\n",
       "  'of',\n",
       "  'neck',\n",
       "  'pain',\n",
       "  '.',\n",
       "  'Whiplash',\n",
       "  ',',\n",
       "  'a',\n",
       "  'soft',\n",
       "  'tissue',\n",
       "  'injury',\n",
       "  'to',\n",
       "  'the',\n",
       "  'neck',\n",
       "  ',',\n",
       "  'is',\n",
       "  'also',\n",
       "  'called',\n",
       "  'neck',\n",
       "  'sprain',\n",
       "  'or',\n",
       "  'strain',\n",
       "  '.',\n",
       "  'Treatment',\n",
       "  'depends',\n",
       "  'on',\n",
       "  'the',\n",
       "  'cause',\n",
       "  ',',\n",
       "  'but',\n",
       "  'may',\n",
       "  'include',\n",
       "  'applying',\n",
       "  'ice',\n",
       "  ',',\n",
       "  'taking',\n",
       "  'pain',\n",
       "  'relievers',\n",
       "  ',',\n",
       "  'getting',\n",
       "  'physical',\n",
       "  'therapy',\n",
       "  'or',\n",
       "  'wearing',\n",
       "  'a',\n",
       "  'cervical',\n",
       "  'collar',\n",
       "  '.',\n",
       "  'You',\n",
       "  'rarely',\n",
       "  'need',\n",
       "  'surgery',\n",
       "  '.'],\n",
       " 'ner': [(4, 4, 'body part'),\n",
       "  (19, 19, 'body part'),\n",
       "  (22, 22, 'body part'),\n",
       "  (50, 50, 'body part'),\n",
       "  (75, 75, 'body part'),\n",
       "  (102, 102, 'body part'),\n",
       "  (113, 113, 'body part'),\n",
       "  (118, 118, 'body part'),\n",
       "  (5, 5, 'body part'),\n",
       "  (76, 76, 'body part'),\n",
       "  (7, 7, 'body part'),\n",
       "  (9, 9, 'body part'),\n",
       "  (11, 11, 'body part'),\n",
       "  (13, 13, 'body part'),\n",
       "  (16, 16, 'body part'),\n",
       "  (19, 20, 'condition'),\n",
       "  (22, 23, 'condition'),\n",
       "  (50, 51, 'condition'),\n",
       "  (102, 103, 'condition'),\n",
       "  (34, 34, 'body part'),\n",
       "  (36, 36, 'body part'),\n",
       "  (38, 38, 'body part'),\n",
       "  (41, 42, 'body part'),\n",
       "  (44, 45, 'condition'),\n",
       "  (47, 47, 'condition'),\n",
       "  (4, 5, 'body part'),\n",
       "  (75, 76, 'body part'),\n",
       "  (89, 89, 'event'),\n",
       "  (91, 91, 'event'),\n",
       "  (95, 95, 'event'),\n",
       "  (94, 95, 'event'),\n",
       "  (105, 105, 'condition'),\n",
       "  (108, 110, 'condition'),\n",
       "  (118, 119, 'condition'),\n",
       "  (45, 45, 'condition'),\n",
       "  (73, 73, 'condition'),\n",
       "  (121, 121, 'condition'),\n",
       "  (133, 133, 'treatment'),\n",
       "  (136, 137, 'treatment'),\n",
       "  (140, 141, 'treatment'),\n",
       "  (145, 146, 'treatment'),\n",
       "  (151, 151, 'treatment')],\n",
       " 'negative_ner': [(4, 4, 'condition'),\n",
       "  (19, 19, 'condition'),\n",
       "  (22, 22, 'condition'),\n",
       "  (50, 50, 'condition'),\n",
       "  (75, 75, 'condition'),\n",
       "  (102, 102, 'condition'),\n",
       "  (113, 113, 'condition'),\n",
       "  (118, 118, 'condition'),\n",
       "  (5, 5, 'event'),\n",
       "  (76, 76, 'event'),\n",
       "  (7, 7, 'treatment'),\n",
       "  (9, 9, 'body part'),\n",
       "  (11, 11, 'condition'),\n",
       "  (13, 13, 'event'),\n",
       "  (16, 16, 'treatment'),\n",
       "  (19, 20, 'body part'),\n",
       "  (22, 23, 'body part'),\n",
       "  (50, 51, 'body part'),\n",
       "  (102, 103, 'body part'),\n",
       "  (34, 34, 'condition'),\n",
       "  (36, 36, 'event'),\n",
       "  (38, 38, 'treatment'),\n",
       "  (41, 42, 'condition'),\n",
       "  (44, 45, 'event'),\n",
       "  (47, 47, 'body part'),\n",
       "  (4, 5, 'condition'),\n",
       "  (75, 76, 'condition'),\n",
       "  (89, 89, 'body part'),\n",
       "  (91, 91, 'condition'),\n",
       "  (95, 95, 'condition'),\n",
       "  (94, 95, 'body part'),\n",
       "  (105, 105, 'event'),\n",
       "  (108, 110, 'body part'),\n",
       "  (118, 119, 'event'),\n",
       "  (45, 45, 'body part'),\n",
       "  (73, 73, 'body part'),\n",
       "  (121, 121, 'body part'),\n",
       "  (133, 133, 'condition'),\n",
       "  (136, 137, 'event'),\n",
       "  (140, 141, 'body part'),\n",
       "  (145, 146, 'condition'),\n",
       "  (151, 151, 'event')]}"
      ]
     },
     "execution_count": 15,
     "metadata": {},
     "output_type": "execute_result"
    }
   ],
   "source": [
    "tokenized_text = extract_entities_with_negatives(tokenizer, json_outputs)\n",
    "tokenized_text[0]"
   ]
  },
  {
   "cell_type": "code",
   "execution_count": null,
   "id": "a6c4afd4",
   "metadata": {},
   "outputs": [
    {
     "data": {
      "text/plain": [
       "1002"
      ]
     },
     "execution_count": 29,
     "metadata": {},
     "output_type": "execute_result"
    }
   ],
   "source": [
    "len([len(item['text'].split()) for item in json_outputs if len(item['text'].split()) < 100])"
   ]
  },
  {
   "cell_type": "code",
   "execution_count": 38,
   "id": "9a9814e4",
   "metadata": {},
   "outputs": [],
   "source": [
    "new_json_outputs = [item for item in json_outputs if len(item['text'].split()) < 100]"
   ]
  },
  {
   "cell_type": "code",
   "execution_count": 42,
   "id": "83a4ec51",
   "metadata": {},
   "outputs": [
    {
     "data": {
      "text/plain": [
       "1121"
      ]
     },
     "execution_count": 42,
     "metadata": {},
     "output_type": "execute_result"
    }
   ],
   "source": [
    "small_tokenized_text = extract_entities_with_negatives(tokenizer, new_json_outputs)\n",
    "len(small_tokenized_text)"
   ]
  },
  {
   "cell_type": "code",
   "execution_count": 16,
   "id": "753e72c2",
   "metadata": {},
   "outputs": [],
   "source": [
    "def save_json(data, filename, pretty=True):\n",
    "    \"\"\"\n",
    "    Save Python object as JSON file.\n",
    "\n",
    "    Args:\n",
    "        data (Any): The Python object to save\n",
    "        filename (str): Path to the output file\n",
    "        pretty (bool): If True, indent formatting is used\n",
    "    \"\"\"\n",
    "    options = {\n",
    "        \"ensure_ascii\": False\n",
    "    }\n",
    "\n",
    "    if pretty:\n",
    "        options[\"indent\"] = 2\n",
    "    else:\n",
    "        options[\"separators\"] = (\",\", \":\")\n",
    "\n",
    "    with open(filename, \"w\", encoding=\"utf-8\") as f:\n",
    "        json.dump(data, f, **options)\n",
    "\n",
    "    print(f\"Data successfully written to {filename}\")"
   ]
  },
  {
   "cell_type": "code",
   "execution_count": 43,
   "id": "6dd4d464",
   "metadata": {},
   "outputs": [
    {
     "name": "stdout",
     "output_type": "stream",
     "text": [
      "Data successfully written to small_processed_output.json\n"
     ]
    }
   ],
   "source": [
    "save_json(small_tokenized_text, \"small_processed_output.json\")"
   ]
  },
  {
   "cell_type": "code",
   "execution_count": 45,
   "id": "dffe7cdd",
   "metadata": {},
   "outputs": [
    {
     "data": {
      "text/plain": [
       "1121"
      ]
     },
     "execution_count": 45,
     "metadata": {},
     "output_type": "execute_result"
    }
   ],
   "source": [
    "len(new_json_outputs)"
   ]
  },
  {
   "cell_type": "code",
   "execution_count": null,
   "id": "1634f62d",
   "metadata": {},
   "outputs": [],
   "source": []
  }
 ],
 "metadata": {
  "kernelspec": {
   "display_name": ".venv",
   "language": "python",
   "name": "python3"
  },
  "language_info": {
   "codemirror_mode": {
    "name": "ipython",
    "version": 3
   },
   "file_extension": ".py",
   "mimetype": "text/x-python",
   "name": "python",
   "nbconvert_exporter": "python",
   "pygments_lexer": "ipython3",
   "version": "3.12.3"
  }
 },
 "nbformat": 4,
 "nbformat_minor": 5
}
