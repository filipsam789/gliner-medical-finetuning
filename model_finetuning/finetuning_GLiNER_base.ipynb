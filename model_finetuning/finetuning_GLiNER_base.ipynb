{
 "cells": [
  {
   "cell_type": "code",
   "execution_count": null,
   "id": "afb07680",
   "metadata": {},
   "outputs": [],
   "source": [
    "!pip install gliner"
   ]
  },
  {
   "cell_type": "code",
   "execution_count": null,
   "id": "1f839b08",
   "metadata": {},
   "outputs": [],
   "source": [
    "import os\n",
    "os.environ[\"TOKENIZERS_PARALLELISM\"] = \"true\"\n",
    "import json\n",
    "\n",
    "import torch.nn as nn\n",
    "import torch.nn.functional as F\n",
    "\n",
    "from gliner import GLiNER\n",
    "from gliner.training import Trainer, TrainingArguments\n",
    "from gliner.data_processing.collator import DataCollator"
   ]
  },
  {
   "cell_type": "code",
   "execution_count": null,
   "id": "7d7758b2",
   "metadata": {},
   "outputs": [],
   "source": [
    "# Load the processed output from the JSON file which contains data ready for training\n",
    "with open(\"../data/processed_output.json\", \"r\", encoding=\"utf-8\") as file:\n",
    "    processed_output = json.load(file)\n",
    "\n",
    "print(len(processed_output))\n",
    "print(processed_output[0])"
   ]
  },
  {
   "cell_type": "code",
   "execution_count": null,
   "id": "f2fcc452",
   "metadata": {},
   "outputs": [],
   "source": [
    "train_dataset = processed_output[:int(len(processed_output)*0.9)]\n",
    "test_dataset = processed_output[int(len(processed_output)*0.9):]"
   ]
  },
  {
   "cell_type": "code",
   "execution_count": null,
   "id": "0aeb51f0",
   "metadata": {},
   "outputs": [
    {
     "data": {
      "application/vnd.jupyter.widget-view+json": {
       "model_id": "5f25b8ce79df4aaba1f35775e22be0a4",
       "version_major": 2,
       "version_minor": 0
      },
      "text/plain": [
       "Fetching 4 files:   0%|          | 0/4 [00:00<?, ?it/s]"
      ]
     },
     "metadata": {},
     "output_type": "display_data"
    },
    {
     "name": "stderr",
     "output_type": "stream",
     "text": [
      "/usr/local/lib/python3.12/dist-packages/transformers/convert_slow_tokenizer.py:559: UserWarning: The sentencepiece tokenizer that you are converting to a fast tokenizer uses the byte fallback option which is not implemented in the fast tokenizers. In practice this means that the fast version of the tokenizer can produce unknown tokens whereas the sentencepiece version would have converted these unknown tokens into a sequence of byte tokens matching the original piece of text.\n",
      "  warnings.warn(\n"
     ]
    }
   ],
   "source": [
    "gliner_model_base_ft = GLiNER.from_pretrained(\"urchade/gliner_small\")"
   ]
  },
  {
   "cell_type": "code",
   "execution_count": null,
   "id": "426efb70",
   "metadata": {},
   "outputs": [],
   "source": [
    "data_collator_base_ft = DataCollator(gliner_model_base_ft.config, data_processor=gliner_model_base_ft.data_processor, prepare_labels=True)"
   ]
  },
  {
   "cell_type": "code",
   "execution_count": null,
   "id": "a7a5920a",
   "metadata": {},
   "outputs": [],
   "source": [
    "num_steps = 5 # 3380\n",
    "batch_size = 8\n",
    "data_size = len(train_dataset) # 2700\n",
    "num_batches = data_size // batch_size\n",
    "num_epochs = 5 # max(1, num_steps // num_batches)"
   ]
  },
  {
   "cell_type": "code",
   "execution_count": null,
   "id": "f62f2b01",
   "metadata": {},
   "outputs": [],
   "source": [
    "training_args_base_ft = TrainingArguments(\n",
    "    output_dir=\"gliner_model_base_ft\",\n",
    "    per_device_train_batch_size=batch_size,  # adjust\n",
    "    per_device_eval_batch_size=batch_size,\n",
    "    num_train_epochs=num_epochs,\n",
    "    learning_rate=5e-5,\n",
    "    weight_decay=0.01,\n",
    "    eval_strategy=\"epoch\",\n",
    "    save_strategy=\"epoch\",\n",
    "    load_best_model_at_end=False,\n",
    "    metric_for_best_model=\"eval_loss\",  # optionally use custom metric (e.g. F1)\n",
    "    report_to=\"none\",\n",
    ")"
   ]
  },
  {
   "cell_type": "code",
   "execution_count": null,
   "id": "ef12faa1",
   "metadata": {},
   "outputs": [
    {
     "name": "stderr",
     "output_type": "stream",
     "text": [
      "/tmp/ipython-input-3202539858.py:1: FutureWarning: `tokenizer` is deprecated and will be removed in version 5.0.0 for `Trainer.__init__`. Use `processing_class` instead.\n",
      "  trainer_ft = Trainer(\n"
     ]
    }
   ],
   "source": [
    "trainer_base_ft = Trainer(\n",
    "    model=gliner_model_base_ft,\n",
    "    args=training_args_base_ft,\n",
    "    train_dataset=train_dataset,\n",
    "    eval_dataset=test_dataset,\n",
    "    tokenizer=gliner_model_base_ft.data_processor.transformer_tokenizer,\n",
    "    data_collator=data_collator_base_ft,\n",
    ")"
   ]
  },
  {
   "cell_type": "code",
   "execution_count": null,
   "id": "3369e785",
   "metadata": {},
   "outputs": [
    {
     "name": "stderr",
     "output_type": "stream",
     "text": [
      "Asking to truncate to max_length but no maximum length is provided and the model has no predefined maximum length. Default to no truncation.\n"
     ]
    },
    {
     "data": {
      "text/html": [
       "\n",
       "    <div>\n",
       "      \n",
       "      <progress value='60' max='60' style='width:300px; height:20px; vertical-align: middle;'></progress>\n",
       "      [60/60 03:41, Epoch 5/5]\n",
       "    </div>\n",
       "    <table border=\"1\" class=\"dataframe\">\n",
       "  <thead>\n",
       " <tr style=\"text-align: left;\">\n",
       "      <th>Epoch</th>\n",
       "      <th>Training Loss</th>\n",
       "      <th>Validation Loss</th>\n",
       "    </tr>\n",
       "  </thead>\n",
       "  <tbody>\n",
       "    <tr>\n",
       "      <td>1</td>\n",
       "      <td>No log</td>\n",
       "      <td>121512.273438</td>\n",
       "    </tr>\n",
       "    <tr>\n",
       "      <td>2</td>\n",
       "      <td>No log</td>\n",
       "      <td>56086.707031</td>\n",
       "    </tr>\n",
       "    <tr>\n",
       "      <td>3</td>\n",
       "      <td>No log</td>\n",
       "      <td>82117.328125</td>\n",
       "    </tr>\n",
       "    <tr>\n",
       "      <td>4</td>\n",
       "      <td>No log</td>\n",
       "      <td>102638.195312</td>\n",
       "    </tr>\n",
       "    <tr>\n",
       "      <td>5</td>\n",
       "      <td>No log</td>\n",
       "      <td>94575.921875</td>\n",
       "    </tr>\n",
       "  </tbody>\n",
       "</table><p>"
      ],
      "text/plain": [
       "<IPython.core.display.HTML object>"
      ]
     },
     "metadata": {},
     "output_type": "display_data"
    },
    {
     "data": {
      "text/plain": [
       "TrainOutput(global_step=60, training_loss=176490.61666666667, metrics={'train_runtime': 222.7727, 'train_samples_per_second': 2.02, 'train_steps_per_second': 0.269, 'total_flos': 0.0, 'train_loss': 176490.61666666667, 'epoch': 5.0})"
      ]
     },
     "metadata": {},
     "output_type": "display_data"
    }
   ],
   "source": [
    "trainer_base_ft.train()"
   ]
  },
  {
   "cell_type": "code",
   "execution_count": null,
   "id": "76051ad2",
   "metadata": {},
   "outputs": [],
   "source": [
    "trainer_base_ft.save_model(\"finetuned_gliner_model_base\")"
   ]
  },
  {
   "cell_type": "code",
   "execution_count": null,
   "id": "0dd3e069",
   "metadata": {},
   "outputs": [],
   "source": [
    "best_ckpt_base_ft = trainer_base_ft.state.best_model_checkpoint"
   ]
  },
  {
   "cell_type": "code",
   "execution_count": null,
   "id": "595764f0",
   "metadata": {},
   "outputs": [
    {
     "name": "stderr",
     "output_type": "stream",
     "text": [
      "config.json not found in /content/gliner_model_ft/checkpoint-24\n",
      "WARNING:huggingface_hub.hub_mixin:config.json not found in /content/gliner_model_ft/checkpoint-24\n"
     ]
    }
   ],
   "source": [
    "best_ckpt_base_ft_model = GLiNER.from_pretrained(best_ckpt_base_ft, load_tokenizer=True)"
   ]
  },
  {
   "cell_type": "code",
   "execution_count": null,
   "id": "44a4b7e5",
   "metadata": {},
   "outputs": [
    {
     "name": "stderr",
     "output_type": "stream",
     "text": [
      "Asking to truncate to max_length but no maximum length is provided and the model has no predefined maximum length. Default to no truncation.\n"
     ]
    },
    {
     "name": "stdout",
     "output_type": "stream",
     "text": [
      "Any => symptom\n",
      "part => treatment\n",
      "of => treatment\n",
      "your => treatment\n",
      "neck  muscles, bones, joints => treatment\n",
      ", => treatment\n",
      "tendons => treatment\n",
      ", => treatment\n",
      "ligaments => treatment\n",
      ", => treatment\n",
      "or => treatment\n",
      "nerves  can cause => treatment\n",
      "neck problems => treatment\n",
      ". => treatment\n",
      "Neck => treatment\n",
      "pain is very common => treatment\n",
      ". => treatment\n",
      "Pain => treatment\n",
      "may also come => treatment\n",
      "from => treatment\n",
      "your => treatment\n",
      "shoulder, jaw, head, or upper => treatment\n",
      "arms => treatment\n",
      ". => treatment\n",
      "Muscle => treatment\n",
      "strain or tension => treatment\n",
      "often => treatment\n",
      "causes => treatment\n",
      "neck => treatment\n",
      "pain. The problem is usually overuse, such as from sitting => treatment\n",
      "at => treatment\n",
      "a => treatment\n",
      "computer for too long => treatment\n",
      ". => treatment\n",
      "Sometimes => treatment\n",
      "you can => treatment\n",
      "strain your neck muscles from sleeping => treatment\n",
      "in => treatment\n",
      "an => treatment\n",
      "awkward => treatment\n",
      "position or overdoing it during exercise. Falls => treatment\n",
      "or => treatment\n",
      "accidents => treatment\n",
      ", => treatment\n",
      "including => treatment\n",
      "car => treatment\n",
      "accidents => treatment\n",
      ", => treatment\n",
      "are => treatment\n",
      "another => treatment\n",
      "common => treatment\n",
      "cause => treatment\n",
      "of => treatment\n",
      "neck => treatment\n",
      "pain => treatment\n",
      ". => treatment\n",
      "Whiplash => treatment\n",
      ", => treatment\n",
      "a => treatment\n",
      "soft => treatment\n",
      "tissue injury to the neck, is also called neck sprain => treatment\n",
      "or => treatment\n",
      "strain => treatment\n",
      ". => treatment\n",
      "Treatment depends on the cause => treatment\n",
      ", => treatment\n",
      "but => treatment\n",
      "may include => treatment\n",
      "applying => treatment\n",
      "ice => treatment\n",
      ", => treatment\n",
      "taking => treatment\n",
      "pain relievers, getting physical therapy or wearing => treatment\n",
      "a => treatment\n",
      "cervical collar => treatment\n",
      ". => treatment\n",
      "You => treatment\n",
      "rarely => treatment\n",
      "need => treatment\n",
      "surgery => treatment\n",
      ". => treatment\n"
     ]
    }
   ],
   "source": [
    "# Example inference\n",
    "text = \"Any part of your neck  muscles, bones, joints, tendons, ligaments, or nerves  can cause neck problems. Neck pain is very common. Pain may also come from your shoulder, jaw, head, or upper arms. Muscle strain or tension often causes neck pain. The problem is usually overuse, such as from sitting at a computer for too long. Sometimes you can strain your neck muscles from sleeping in an awkward position or overdoing it during exercise. Falls or accidents, including car accidents, are another common cause of neck pain. Whiplash, a soft tissue injury to the neck, is also called neck sprain or strain. Treatment depends on the cause, but may include applying ice, taking pain relievers, getting physical therapy or wearing a cervical collar. You rarely need surgery.\"\n",
    "\n",
    "labels = [\"medical_condition\", \"body_part\", \"cause\", \"symptom\", \"treatment\"]\n",
    "\n",
    "entities = best_ckpt_base_ft_model.predict_entities(text, labels, threshold=0.5)\n",
    "\n",
    "for entity in entities:\n",
    "    print(entity[\"text\"], \"=>\", entity[\"label\"])"
   ]
  }
 ],
 "metadata": {
  "language_info": {
   "name": "python"
  }
 },
 "nbformat": 4,
 "nbformat_minor": 5
}
